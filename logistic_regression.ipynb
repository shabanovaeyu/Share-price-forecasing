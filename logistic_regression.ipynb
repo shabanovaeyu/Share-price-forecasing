{
 "cells": [
  {
   "cell_type": "code",
   "execution_count": 10,
   "source": [
    "# Импорт модулей и библиотек\r\n",
    "\r\n",
    "import numpy as np\r\n",
    "import pandas as pd\r\n",
    "\r\n",
    "from imblearn.over_sampling import SMOTE\r\n",
    "from sklearn.model_selection import StratifiedKFold\r\n",
    "from sklearn.model_selection import train_test_split\r\n",
    "from sklearn.model_selection import StratifiedKFold\r\n",
    "\r\n",
    "from sklearn.linear_model import LogisticRegression\r\n",
    "from sklearn.feature_extraction.text import CountVectorizer\r\n",
    "from sklearn.linear_model import LogisticRegressionCV\r\n",
    "from sklearn.metrics import f1_score, precision_score, accuracy_score, recall_score"
   ],
   "outputs": [],
   "metadata": {
    "code_folding": [
     0
    ]
   }
  },
  {
   "cell_type": "code",
   "execution_count": 3,
   "source": [
    "# Чтение dataset.v.3.2.csv\r\n",
    "dataset = pd.read_csv('_data/dataset.v.3.2.csv', sep=';')\r\n",
    "dataset.info()"
   ],
   "outputs": [
    {
     "output_type": "stream",
     "name": "stdout",
     "text": [
      "<class 'pandas.core.frame.DataFrame'>\n",
      "RangeIndex: 35227 entries, 0 to 35226\n",
      "Data columns (total 11 columns):\n",
      " #   Column       Non-Null Count  Dtype  \n",
      "---  ------       --------------  -----  \n",
      " 0   ticker       35227 non-null  object \n",
      " 1   year         35227 non-null  int64  \n",
      " 2   month        35227 non-null  int64  \n",
      " 3   day          35227 non-null  int64  \n",
      " 4   title        35227 non-null  object \n",
      " 5   content      35227 non-null  object \n",
      " 6   T            35227 non-null  float64\n",
      " 7   a1           35227 non-null  float64\n",
      " 8   a2           35227 non-null  float64\n",
      " 9   title_cln    35227 non-null  object \n",
      " 10  content_cln  35227 non-null  object \n",
      "dtypes: float64(3), int64(3), object(5)\n",
      "memory usage: 3.0+ MB\n"
     ]
    }
   ],
   "metadata": {
    "code_folding": [],
    "scrolled": true
   }
  },
  {
   "cell_type": "code",
   "execution_count": 4,
   "source": [
    "# Подготовка данные, вычисление класса Y\r\n",
    "\r\n",
    "period = 30\r\n",
    "dataset = dataset[dataset['T'] == period]\r\n",
    "dataset = dataset[dataset['a2'].notnull()]\r\n",
    "\r\n",
    "# Y=1, если котировка имела нисходящий тренд\r\n",
    "dataset['Y'] = (dataset['a2'] < 0) * 1 \r\n",
    "\r\n",
    "r0, r1 = dataset['Y'].value_counts() # кол-во примеров классов\r\n",
    "w0, w1 = 1 - r0/len(dataset), 1 - r1/len(dataset) # веса классов\r\n",
    "\r\n",
    "print(f'Количество записей: {len(dataset)}')\r\n",
    "print(f'Класс 0 (рост котировки): {r0} примеров, вес: {round(w0, 2)}')\r\n",
    "print(f'Класс 1 (падение котировки): {r1} примеров, вес: {round(w1, 2)}')"
   ],
   "outputs": [
    {
     "output_type": "stream",
     "name": "stdout",
     "text": [
      "Количество записей: 35227\n",
      "Класс 0 (рост котировки): 20418 примеров, вес: 0.42\n",
      "Класс 1 (падение котировки): 14809 примеров, вес: 0.58\n"
     ]
    }
   ],
   "metadata": {
    "code_folding": [
     0
    ],
    "scrolled": true
   }
  },
  {
   "cell_type": "code",
   "execution_count": 21,
   "source": [
    "# Получение train и test-выборок\r\n",
    "\r\n",
    "min_df = 1\r\n",
    "train_size = 0.9\r\n",
    "test_size = 0.1\r\n",
    "\r\n",
    "train, test = train_test_split(dataset, test_size=test_size, random_state=42)\r\n",
    "\r\n",
    "X_train, X_test, y_train, y_test = train['title'], test['title'], train['Y'], test['Y']\r\n",
    "\r\n",
    "vectorizer = CountVectorizer(min_df=min_df)\r\n",
    "vectorizer.fit(X_train)\r\n",
    "X_train = vectorizer.transform(X_train)\r\n",
    "X_test = vectorizer.transform(X_test)\r\n",
    "\r\n",
    "# Балансировка SMOTE\r\n",
    "smote = SMOTE(sampling_strategy='auto', k_neighbors=5, random_state=42)\r\n",
    "X_train_resampled, y_train_resampled = smote.fit_resample(X_train, y_train)\r\n",
    "\r\n",
    "print(f'Обучающая выборка: {X_train_resampled.shape[0]} записей')\r\n",
    "print(f'Тестовая выборка: {X_test.shape[0]} записей')\r\n",
    "print(f'Атрибутов: {X_test.shape[1]}')\r\n",
    "\r\n",
    "print(f'После балансировки:\\nКласс 0: {y_train_resampled.value_counts()[0]} примеров')\r\n",
    "print(f'Kласс 1: {y_train_resampled.value_counts()[1]} примеров')"
   ],
   "outputs": [
    {
     "output_type": "stream",
     "name": "stdout",
     "text": [
      "Обучающая выборка: 36762 записей\n",
      "Тестовая выборка: 3523 записей\n",
      "Атрибутов: 22493\n",
      "После балансировки:\n",
      "Класс 0: 18381 примеров\n",
      "Kласс 1: 18381 примеров\n"
     ]
    }
   ],
   "metadata": {}
  },
  {
   "cell_type": "code",
   "execution_count": 38,
   "source": [
    "# Логистическая регрессия без тюнинга С-параметра\r\n",
    "\r\n",
    "lr=LogisticRegression(C = 5,\r\n",
    "                      max_iter = 700,\r\n",
    "                      class_weight = {1: 0.5, 0: 0.5})\r\n",
    "\r\n",
    "model = lr.fit(X_train_resampled, y_train_resampled)\r\n",
    "\r\n",
    "y_pred_proba = model.predict_proba(X_test)\r\n",
    "y_pred = model.predict(X_test)"
   ],
   "outputs": [],
   "metadata": {}
  },
  {
   "cell_type": "code",
   "execution_count": 39,
   "source": [
    "print(f'Accuracy = {accuracy_score(y_test, y_pred)}')\r\n",
    "print(f'Recall = {recall_score(y_test, y_pred)}')\r\n",
    "print(f'Precision = {precision_score(y_test, y_pred)}')\r\n",
    "print(f'F1 = {f1_score(y_test, y_pred)}')"
   ],
   "outputs": [
    {
     "output_type": "stream",
     "name": "stdout",
     "text": [
      "Accuracy = 0.5975021288674425\n",
      "Recall = 0.5753701211305519\n",
      "Precision = 0.5207064555420219\n",
      "F1 = 0.5466751918158568\n"
     ]
    }
   ],
   "metadata": {}
  },
  {
   "cell_type": "code",
   "execution_count": 37,
   "source": [
    "# Логистическая регрессия с автоматическим тюнингом С-параметра\r\n",
    "\r\n",
    "skf = StratifiedKFold(n_splits=2, shuffle=True, random_state=42)\r\n",
    "\r\n",
    "c_range = np.logspace(-2, 3, 100)\r\n",
    "\r\n",
    "model = LogisticRegressionCV(Cs=c_range, cv=skf, verbose=0, n_jobs=-1, scoring = 'accuracy')\r\n",
    "model.fit(X_train_resampled, y_train_resampled)\r\n",
    "\r\n",
    "y_pred = model.predict(X_test)"
   ],
   "outputs": [],
   "metadata": {}
  },
  {
   "cell_type": "code",
   "execution_count": 36,
   "source": [
    "print(f'Accuracy = {accuracy_score(y_test, y_pred)}')\r\n",
    "print(f'Recall = {recall_score(y_test, y_pred)}')\r\n",
    "print(f'Precision = {precision_score(y_test, y_pred)}')\r\n",
    "print(f'F1 = {f1_score(y_test, y_pred)}')"
   ],
   "outputs": [
    {
     "output_type": "stream",
     "name": "stdout",
     "text": [
      "Accuracy = 0.603179108714164\n",
      "Recall = 0.5746971736204576\n",
      "Precision = 0.5271604938271605\n",
      "F1 = 0.549903412749517\n"
     ]
    }
   ],
   "metadata": {}
  },
  {
   "cell_type": "code",
   "execution_count": null,
   "source": [],
   "outputs": [],
   "metadata": {}
  }
 ],
 "metadata": {
  "kernelspec": {
   "name": "python3",
   "display_name": "Python 3.8.10 64-bit"
  },
  "language_info": {
   "codemirror_mode": {
    "name": "ipython",
    "version": 3
   },
   "file_extension": ".py",
   "mimetype": "text/x-python",
   "name": "python",
   "nbconvert_exporter": "python",
   "pygments_lexer": "ipython3",
   "version": "3.8.10"
  },
  "interpreter": {
   "hash": "0ff1e1fc79923b7048a1b0a049e1f8c29b7247f7ffa1cbd35692250f92a41541"
  }
 },
 "nbformat": 4,
 "nbformat_minor": 5
}